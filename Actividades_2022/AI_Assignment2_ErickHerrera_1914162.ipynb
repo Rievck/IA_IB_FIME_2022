{
  "nbformat": 4,
  "nbformat_minor": 0,
  "metadata": {
    "colab": {
      "provenance": [],
      "collapsed_sections": []
    },
    "kernelspec": {
      "name": "python3",
      "display_name": "Python 3"
    },
    "language_info": {
      "name": "python"
    }
  },
  "cells": [
    {
      "cell_type": "markdown",
      "source": [
        "# A2: Python exercises.\n",
        "Erick Herrera Bautista\n",
        "\n",
        "Student number: 1914162\n",
        "\n",
        "Class time: MaN4-N6\n",
        "\n",
        "EXERCISES: \n",
        "\n",
        "1) Create a python script where the user is going to be asked for the name. After that, the program will greet the user with the given name. Only exception: the script will not greet the user if the given name is \"Ana\", \"John\" or \"Peter\"."
      ],
      "metadata": {
        "id": "Wv3vklasQdXc"
      }
    },
    {
      "cell_type": "code",
      "source": [
        "names = [\"Ana\", \"John\", \"Peter\"]\n",
        "name = input(\"What's your name: \")\n",
        "if name in names:\n",
        "  print(\"Error\")\n",
        "else: print(\"Welcome, \"+ name)"
      ],
      "metadata": {
        "colab": {
          "base_uri": "https://localhost:8080/"
        },
        "id": "vBoQN1M8t3KU",
        "outputId": "fc544157-8f4a-410f-8917-82f63ae456bd"
      },
      "execution_count": 46,
      "outputs": [
        {
          "output_type": "stream",
          "name": "stdout",
          "text": [
            "What's your name: Ana\n",
            "Error\n"
          ]
        }
      ]
    },
    {
      "cell_type": "markdown",
      "source": [
        "2) Create a function in a Python script that returns (print) the last element of a given list, reverts the order of the list and finally returns (print) the reverted list."
      ],
      "metadata": {
        "id": "3R_44k0YXUXs"
      }
    },
    {
      "cell_type": "code",
      "source": [
        "def my_function(list):\n",
        "  print(list[-1])\n",
        "  list.reverse()\n",
        "  print(list)\n",
        "\n",
        "list = [15, 87, 96, 75, 26, 46, 73, 10, 67]\n",
        "my_function(list)"
      ],
      "metadata": {
        "colab": {
          "base_uri": "https://localhost:8080/"
        },
        "id": "5vmW5We2YCjj",
        "outputId": "3d5e2d23-159d-4a21-e412-ca632c1c8308"
      },
      "execution_count": 45,
      "outputs": [
        {
          "output_type": "stream",
          "name": "stdout",
          "text": [
            "67\n",
            "[67, 10, 73, 46, 26, 75, 96, 87, 15]\n"
          ]
        }
      ]
    },
    {
      "cell_type": "markdown",
      "source": [
        "3) Create a function in a Python script that takes a list of strings as input and then is prints, line by line, the whole list in a rectangular shape."
      ],
      "metadata": {
        "id": "mTHD_H6eYEkf"
      }
    },
    {
      "cell_type": "code",
      "source": [
        "def my_function(frase):\n",
        "  print(\"********************\")\n",
        "  for x in frase:\n",
        "    print(\"*\"+ x + \"*\")\n",
        "  print(\"********************\")\n",
        "\n",
        "frase = [\"        AI        \", \"    Metrología    \", \"Microcontroladores\", \" Redes Neuronales \"]\n",
        "my_function(frase)"
      ],
      "metadata": {
        "colab": {
          "base_uri": "https://localhost:8080/"
        },
        "id": "DkDsYxrxu7PS",
        "outputId": "1fd693fd-e4b1-4195-9324-a0bb7565bf17"
      },
      "execution_count": 35,
      "outputs": [
        {
          "output_type": "stream",
          "name": "stdout",
          "text": [
            "********************\n",
            "*        AI        *\n",
            "*    Metrología    *\n",
            "*Microcontroladores*\n",
            "* Redes Neuronales *\n",
            "********************\n"
          ]
        }
      ]
    }
  ]
}